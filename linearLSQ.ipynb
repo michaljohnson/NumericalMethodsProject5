{
 "cells": [
  {
   "cell_type": "code",
   "execution_count": 17,
   "metadata": {
    "collapsed": true
   },
   "outputs": [],
   "source": [
    "import numpy as np\n",
    "x = np.array([0,1,2,3])\n",
    "y = np.array([-2,1,2,5])\n",
    "\n",
    "def linearLSQ(x, y):\n",
    "  x_ones = np.ones(x.shape[0])\n",
    "  X = np.column_stack((x_ones, x))\n",
    "  X_transpose_X = np.dot(X.T, X)\n",
    "  print(X_transpose_X)\n",
    "  X_transpose_y = np.dot(X.T, y.T)\n",
    "  print(X_transpose_y)\n",
    "  print(np.linalg.inv(X_transpose_X))\n",
    "  lsq = np.dot(np.linalg.inv(X_transpose_X),X_transpose_y)\n",
    "  print(lsq)\n",
    "  lst = []\n",
    "  lst.append(lsq[1])\n",
    "  lst.append(lsq[0])\n",
    "  return lst"
   ]
  },
  {
   "cell_type": "code",
   "execution_count": 18,
   "outputs": [
    {
     "name": "stdout",
     "output_type": "stream",
     "text": [
      "[[ 4.  6.]\n",
      " [ 6. 14.]]\n",
      "[ 6. 20.]\n",
      "[[ 0.7 -0.3]\n",
      " [-0.3  0.2]]\n",
      "[-1.8  2.2]\n"
     ]
    },
    {
     "data": {
      "text/plain": "[2.200000000000001, -1.8000000000000007]"
     },
     "execution_count": 18,
     "metadata": {},
     "output_type": "execute_result"
    }
   ],
   "source": [
    "linearLSQ(x,y)"
   ],
   "metadata": {
    "collapsed": false
   }
  },
  {
   "cell_type": "code",
   "execution_count": 12,
   "outputs": [],
   "source": [],
   "metadata": {
    "collapsed": false
   }
  },
  {
   "cell_type": "code",
   "execution_count": null,
   "outputs": [],
   "source": [],
   "metadata": {
    "collapsed": false
   }
  }
 ],
 "metadata": {
  "kernelspec": {
   "display_name": "Python 3",
   "language": "python",
   "name": "python3"
  },
  "language_info": {
   "codemirror_mode": {
    "name": "ipython",
    "version": 2
   },
   "file_extension": ".py",
   "mimetype": "text/x-python",
   "name": "python",
   "nbconvert_exporter": "python",
   "pygments_lexer": "ipython2",
   "version": "2.7.6"
  }
 },
 "nbformat": 4,
 "nbformat_minor": 0
}
